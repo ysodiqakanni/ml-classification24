{
 "cells": [
  {
   "cell_type": "markdown",
   "id": "455d98fe-01a6-4ab2-94d9-a01f24bce26e",
   "metadata": {},
   "source": [
    "## Importing Essential Libraries"
   ]
  },
  {
   "cell_type": "code",
   "execution_count": 132,
   "id": "4a4fb87a-f8b8-4933-9f62-b7159557c3ea",
   "metadata": {},
   "outputs": [],
   "source": [
    "import numpy as np\n",
    "import matplotlib.pyplot as plt\n",
    "import pandas as pd "
   ]
  },
  {
   "cell_type": "markdown",
   "id": "655881d9-52a6-490e-ba84-1526ab2efd69",
   "metadata": {},
   "source": [
    "## Loading the rice dataset from uci repo"
   ]
  },
  {
   "cell_type": "code",
   "execution_count": 144,
   "id": "221a2752-8dd6-4841-9add-59a7f4ed77e9",
   "metadata": {},
   "outputs": [],
   "source": [
    "from ucimlrepo import fetch_ucirepo\n",
    "\n",
    "# fetch dataset\n",
    "rice_cammeo_and_osmancik = fetch_ucirepo(id=320)\n",
    "\n",
    "# data (as pandas dataframes), let's convert to numpy\n",
    "X = rice_cammeo_and_osmancik.data.features.to_numpy()\n",
    "y_raw = rice_cammeo_and_osmancik.data.targets.to_numpy()"
   ]
  },
  {
   "cell_type": "code",
   "execution_count": 145,
   "id": "398d1f67-b6a6-49cc-9e41-03c77c02dd1c",
   "metadata": {},
   "outputs": [
    {
     "data": {
      "text/plain": [
       "array(['GP', 'F', 18, 'U', 'GT3', 'A', 4, 4, 'at_home', 'teacher',\n",
       "       'course', 'mother', 2, 2, 0, 'yes', 'no', 'no', 'no', 'yes', 'yes',\n",
       "       'no', 'no', 4, 3, 4, 1, 1, 3, 4], dtype=object)"
      ]
     },
     "execution_count": 145,
     "metadata": {},
     "output_type": "execute_result"
    }
   ],
   "source": [
    "X[0]"
   ]
  },
  {
   "cell_type": "code",
   "execution_count": 146,
   "id": "1b43fc4c-7934-442a-8b35-c34497cd9cd7",
   "metadata": {},
   "outputs": [
    {
     "name": "stdout",
     "output_type": "stream",
     "text": [
      "(649, 30)\n"
     ]
    }
   ],
   "source": [
    "print(X.shape)"
   ]
  },
  {
   "cell_type": "markdown",
   "id": "e264bd7c-54bd-441a-b223-ca2eb35a3aed",
   "metadata": {},
   "source": [
    "## Encoding the Columns"
   ]
  },
  {
   "cell_type": "code",
   "execution_count": 147,
   "id": "15796206-bd06-4123-8922-1c273393c04c",
   "metadata": {},
   "outputs": [
    {
     "name": "stdout",
     "output_type": "stream",
     "text": [
      "X shape before oneHot  (649, 30)\n",
      "new dim added:  (649, 5)\n",
      "X's shape after mjob5: (649, 34)\n",
      "new dim added:  (649, 5)\n",
      "X's shape after fjob5: (649, 38)\n",
      "new dim added:  (649, 4)\n",
      "X's shape after reason4: (649, 41)\n",
      "new guard cols added:  (649, 3)\n",
      "X's shape after guardian3: (649, 43)\n",
      "X's new shape: (649, 43)\n",
      "[0 'F' 18 1 0 0 4 4 1.0 0.0 0.0 0.0 0.0 0.0 0.0 0.0 0.0 1.0 1.0 0.0 0.0\n",
      " 0.0 0.0 1.0 0.0 2 2 0 1 0 0 0 1 1 0 0 4 3 4 1 1 3 4]\n"
     ]
    }
   ],
   "source": [
    "from sklearn.preprocessing import LabelEncoder, OneHotEncoder\n",
    "le = LabelEncoder()\n",
    "\n",
    "# encode the first column (school)\n",
    "X[:, 0] = le.fit_transform(X[:, 0])\n",
    "\n",
    "# encode the 4th column. Rural or Urban\n",
    "X[:, 3] = le.fit_transform(X[:, 3])    # address type \n",
    "X[:, 4] = le.fit_transform(X[:, 4])    # family size\n",
    "X[:, 5] = le.fit_transform(X[:, 5])    # family cohabitation status\n",
    "\n",
    "print(\"X shape before oneHot \", X.shape)  # Todo: remove this\n",
    "\n",
    "# 9th column (mother's job) is nominal\n",
    "onehotencoder = OneHotEncoder(categories='auto', sparse_output=False)    # set to false to return ndarry instead of scipy.sparse._csr.csr_matrix\n",
    "col_9_encoded = onehotencoder.fit_transform(X[:, 8].reshape(-1, 1))\n",
    "print(\"new dim added: \", col_9_encoded.shape)\n",
    "X = np.concatenate((X[:,:8], col_9_encoded, X[:, 9:]), axis=1)  # add/concat the RHS array as a new column(s). Now we have 34cols\n",
    "# at this point, col9 at idx8 has extended to indexes 8,9,10,11,12 due to the new encoded indexes\n",
    "print(f\"X's shape after mjob5: {X.shape}\")\n",
    "\n",
    "# encoding father's job column. Originally col idx9, now idx13\n",
    "col_fjob_encoded = onehotencoder.fit_transform(X[:, 13].reshape(-1, 1))\n",
    "print(\"new dim added: \", col_fjob_encoded.shape)\n",
    "X = np.concatenate((X[:,:13], col_fjob_encoded, X[:, 14:]), axis=1)  # add/concat the RHS array as 5 new column(s)\n",
    "print(f\"X's shape after fjob5: {X.shape}\")\n",
    "\n",
    "# encoding the reason column\n",
    "col_reason_encoded = onehotencoder.fit_transform(X[:, 18].reshape(-1, 1))\n",
    "print(\"new dim added: \", col_reason_encoded.shape)\n",
    "X = np.concatenate((X[:,:18], col_reason_encoded, X[:, 19:]), axis=1)  # add/concat the RHS array as 4 new column(s)\n",
    "print(f\"X's shape after reason4: {X.shape}\")\n",
    "\n",
    "# encoding the guardian column\n",
    "col_guardian_encoded = onehotencoder.fit_transform(X[:, 22].reshape(-1, 1))\n",
    "print(\"new guard cols added: \", col_guardian_encoded.shape)\n",
    "X = np.concatenate((X[:,:22], col_guardian_encoded, X[:, 23:]), axis=1)  # add/concat the RHS array as 3 new column(s)\n",
    "print(f\"X's shape after guardian3: {X.shape}\")\n",
    "\n",
    "# encoding the remaining binary columns\n",
    "for col in range(28, 36):\n",
    "    X[:, col] = le.fit_transform(X[:, col]) \n",
    "\n",
    "print(f\"X's new shape: {X.shape}\")\n",
    "print(X[0])"
   ]
  },
  {
   "cell_type": "code",
   "execution_count": 148,
   "id": "11130d4d-33b5-496b-8869-1c865aa5efa0",
   "metadata": {},
   "outputs": [
    {
     "data": {
      "text/plain": [
       "0"
      ]
     },
     "execution_count": 148,
     "metadata": {},
     "output_type": "execute_result"
    }
   ],
   "source": [
    "X[0,28:36] #array(['yes', 'no', 'no', 'no', 'yes', 'yes', 'no', 'no'], dtype=object)\n",
    "X[0,35]"
   ]
  },
  {
   "cell_type": "markdown",
   "id": "dd23c916-7c7d-49e9-8750-7b35eac2c250",
   "metadata": {},
   "source": [
    "### Converting y to a 1D array"
   ]
  },
  {
   "cell_type": "code",
   "execution_count": 109,
   "id": "a414df82-09ab-419e-9bb0-be79bcc87c2a",
   "metadata": {},
   "outputs": [
    {
     "ename": "NameError",
     "evalue": "name 'y' is not defined",
     "output_type": "error",
     "traceback": [
      "\u001b[1;31m---------------------------------------------------------------------------\u001b[0m",
      "\u001b[1;31mNameError\u001b[0m                                 Traceback (most recent call last)",
      "Cell \u001b[1;32mIn[109], line 1\u001b[0m\n\u001b[1;32m----> 1\u001b[0m y \u001b[38;5;241m=\u001b[39m \u001b[43my\u001b[49m\u001b[38;5;241m.\u001b[39mravel()\n",
      "\u001b[1;31mNameError\u001b[0m: name 'y' is not defined"
     ]
    }
   ],
   "source": [
    "y = y.ravel()"
   ]
  },
  {
   "cell_type": "markdown",
   "id": "d753b2dd-b3aa-4454-828b-71f434b5dba0",
   "metadata": {},
   "source": [
    "## Splitting the dataset into the Training and Test sets"
   ]
  },
  {
   "cell_type": "code",
   "execution_count": null,
   "id": "a162b26f-d3bd-41d0-84ee-a97cf5c2e640",
   "metadata": {},
   "outputs": [],
   "source": [
    "from sklearn.model_selection import train_test_split\n",
    "X_train, X_test, y_train, y_test = train_test_split(X, y, test_size = 0.25, random_state = 0)"
   ]
  },
  {
   "cell_type": "markdown",
   "id": "06708176-aa91-41c0-89fc-4baf5064abf1",
   "metadata": {},
   "source": [
    "## Feature Scaling\n",
    "we scale the features so they're in the same range"
   ]
  },
  {
   "cell_type": "code",
   "execution_count": null,
   "id": "f1fe266c-a7bf-4d25-a27b-360fd755ac5f",
   "metadata": {},
   "outputs": [],
   "source": [
    "from sklearn.preprocessing import StandardScaler\n",
    "sc = StandardScaler()\n",
    "X_train = sc.fit_transform(X_train)\n",
    "X_test = sc.transform(X_test)"
   ]
  },
  {
   "cell_type": "code",
   "execution_count": null,
   "id": "20c0b344-1cd3-464b-a5b0-8ccd0b91409d",
   "metadata": {},
   "outputs": [],
   "source": [
    "print(f\"X and y shapes: {X.shape}, {y.shape}\")"
   ]
  },
  {
   "cell_type": "markdown",
   "id": "ca78a801-ff00-4909-983c-feadb3e28767",
   "metadata": {},
   "source": [
    "## Training the K-NN model on the Training set"
   ]
  },
  {
   "cell_type": "code",
   "execution_count": null,
   "id": "3d548f18-1414-40b6-a79a-3fe5362004ad",
   "metadata": {},
   "outputs": [],
   "source": [
    "from sklearn.neighbors import KNeighborsClassifier\n",
    "classifier = KNeighborsClassifier(n_neighbors = 4, metric = 'minkowski', p = 2)\n",
    "classifier.fit(X_train, y_train)"
   ]
  },
  {
   "cell_type": "markdown",
   "id": "0c598001-a3b5-4c0a-b1f3-ddecdfb08872",
   "metadata": {},
   "source": [
    "## Insample Prediction: on training data"
   ]
  },
  {
   "cell_type": "code",
   "execution_count": null,
   "id": "7b1b59dd-7700-4ec7-b449-dccc7e3f904d",
   "metadata": {},
   "outputs": [],
   "source": [
    "y_pred_ins = classifier.predict(X_train)\n",
    "#print(np.concatenate((y_pred_ins.reshape(len(y_pred_ins),1), y_train.reshape(len(y_train),1)),1))"
   ]
  },
  {
   "cell_type": "markdown",
   "id": "b7c67598-7ad3-4e7a-a4b3-abcefc444f7e",
   "metadata": {},
   "source": [
    "### Let's see the confusion matrix and accuracy score"
   ]
  },
  {
   "cell_type": "code",
   "execution_count": null,
   "id": "98fe0eb5-fe23-47f9-afb8-8e0e8147c590",
   "metadata": {},
   "outputs": [],
   "source": [
    "from sklearn.metrics import confusion_matrix, accuracy_score\n",
    "cm = confusion_matrix(y_train, y_pred_ins)\n",
    "print(cm)\n",
    "accuracy_score(y_train, y_pred_ins)"
   ]
  },
  {
   "cell_type": "markdown",
   "id": "61af9f24-926b-434d-9e48-2709fb566f79",
   "metadata": {},
   "source": [
    "## Insample Prediction: on training data and confusion matrix"
   ]
  },
  {
   "cell_type": "code",
   "execution_count": null,
   "id": "623b3702-fe7d-4d97-8745-5f2d56028b04",
   "metadata": {},
   "outputs": [],
   "source": [
    "y_pred_out = classifier.predict(X_test)"
   ]
  },
  {
   "cell_type": "code",
   "execution_count": null,
   "id": "2c63a759-9977-4fad-a0f8-a39d53e6c60a",
   "metadata": {},
   "outputs": [],
   "source": [
    "cm = confusion_matrix(y_test, y_pred_out)\n",
    "print(cm)\n",
    "accuracy_score(y_test, y_pred_out)"
   ]
  },
  {
   "cell_type": "markdown",
   "id": "755fdcc6-f580-4737-86b4-51dbf24a2429",
   "metadata": {},
   "source": [
    "# Learning Curve\n",
    "## Experiment to run with different values of k and observe the accuracy."
   ]
  },
  {
   "cell_type": "code",
   "execution_count": null,
   "id": "5f6e314c-28c4-4202-aa5f-9a8a2dfef427",
   "metadata": {},
   "outputs": [],
   "source": [
    "from sklearn.model_selection import learning_curve\n",
    "\n",
    "model = KNeighborsClassifier(n_neighbors = 7, metric = 'minkowski', p = 2)\n",
    "train_sizes, train_scores, test_scores = learning_curve(model, X, y, cv=5, scoring='accuracy', n_jobs=-1, train_sizes=np.linspace(0.1, 1.0, 10), random_state=0, shuffle=True)\n",
    "\n",
    "train_scores_mean = np.mean(train_scores, axis=1)\n",
    "test_scores_mean = np.mean(test_scores, axis=1)\n",
    "\n",
    "plt.plot(train_sizes, train_scores_mean, label='Training score')\n",
    "plt.plot(train_sizes, test_scores_mean, label='Cross-validation score')\n",
    "plt.xlabel('Training examples')\n",
    "plt.ylabel('Score')\n",
    "plt.legend(loc='best')\n",
    "plt.title('Learning Curve')\n",
    "plt.show()"
   ]
  },
  {
   "cell_type": "code",
   "execution_count": null,
   "id": "365c92e2-59b5-4141-bc1e-9e0d4077d9cf",
   "metadata": {},
   "outputs": [],
   "source": [
    "# print(train_sizes)\n",
    "# print(train_scores)\n",
    "# print(\"Test scores \\n\", test_scores)\n"
   ]
  },
  {
   "cell_type": "markdown",
   "id": "92aa5dad-9d08-4e50-ac81-feecad20f9a1",
   "metadata": {},
   "source": [
    "## Experimenting with different values of k"
   ]
  },
  {
   "cell_type": "code",
   "execution_count": null,
   "id": "312fe74d-ac41-41f1-81d1-7be54063dc2a",
   "metadata": {},
   "outputs": [],
   "source": [
    "k_vals = [i for i in range(1,40)]\n",
    "train_accuracies = []\n",
    "test_accuracies = []\n",
    "for k in k_vals:\n",
    "    classifier = KNeighborsClassifier(n_neighbors = k, metric = 'minkowski', p = 2)\n",
    "    classifier.fit(X_train, y_train)\n",
    "\n",
    "    y_pred_test = classifier.predict(X_test)\n",
    "    y_pred_train = classifier.predict(X_train)\n",
    "    \n",
    "    train_accuracies.append(accuracy_score(y_train, y_pred_train))\n",
    "    test_accuracies.append(accuracy_score(y_test, y_pred_test))\n",
    "\n",
    "\n",
    "# now let's plot it - Accuracy vs k\n",
    "plt.figure(figsize=(10, 6))\n",
    "plt.plot(k_vals, train_accuracies, label='In-Sample Accuracy (Training Set)', marker='o', color='b')\n",
    "plt.plot(k_vals, test_accuracies, label='Out-of-Sample Accuracy (Test Set)', marker='o', color='r')\n",
    "plt.title('KNN Accuracy for Different Values of k')\n",
    "plt.xlabel('Number of Neighbors (k)')\n",
    "plt.ylabel('Accuracy')\n",
    "plt.xticks(k_vals)\n",
    "plt.legend()\n",
    "plt.grid(True)\n",
    "plt.show()"
   ]
  },
  {
   "cell_type": "code",
   "execution_count": null,
   "id": "e2fd76b7-01da-411e-a8d4-11932b4b8f7c",
   "metadata": {},
   "outputs": [],
   "source": [
    "print(train_accuracies)\n",
    "print(test_accuracies)"
   ]
  },
  {
   "cell_type": "code",
   "execution_count": null,
   "id": "7519fbad-3f9b-4faa-93fd-b622c57497ce",
   "metadata": {},
   "outputs": [],
   "source": []
  }
 ],
 "metadata": {
  "kernelspec": {
   "display_name": "Python 3 (ipykernel)",
   "language": "python",
   "name": "python3"
  },
  "language_info": {
   "codemirror_mode": {
    "name": "ipython",
    "version": 3
   },
   "file_extension": ".py",
   "mimetype": "text/x-python",
   "name": "python",
   "nbconvert_exporter": "python",
   "pygments_lexer": "ipython3",
   "version": "3.11.0"
  }
 },
 "nbformat": 4,
 "nbformat_minor": 5
}
