{
 "cells": [
  {
   "cell_type": "markdown",
   "id": "455d98fe-01a6-4ab2-94d9-a01f24bce26e",
   "metadata": {},
   "source": [
    "## Importing Essential Libraries"
   ]
  },
  {
   "cell_type": "code",
   "execution_count": 454,
   "id": "4a4fb87a-f8b8-4933-9f62-b7159557c3ea",
   "metadata": {},
   "outputs": [],
   "source": [
    "import numpy as np\n",
    "import matplotlib.pyplot as plt\n",
    "import pandas as pd "
   ]
  },
  {
   "cell_type": "markdown",
   "id": "655881d9-52a6-490e-ba84-1526ab2efd69",
   "metadata": {},
   "source": [
    "## Loading the rice dataset from uci repo"
   ]
  },
  {
   "cell_type": "code",
   "execution_count": 455,
   "id": "221a2752-8dd6-4841-9add-59a7f4ed77e9",
   "metadata": {},
   "outputs": [],
   "source": [
    "from ucimlrepo import fetch_ucirepo\n",
    "\n",
    "# fetch dataset \n",
    "student_performance = fetch_ucirepo(id=320) \n",
    "  \n",
    "# data (as pandas dataframes) \n",
    "X = student_performance.data.features.to_numpy()\n",
    "y_raw = student_performance.data.targets.to_numpy()\n",
    "#y_raw = y_raw[:, 2]  # I'm using only the 3rd target column (final grade)"
   ]
  },
  {
   "cell_type": "markdown",
   "id": "dd23c916-7c7d-49e9-8750-7b35eac2c250",
   "metadata": {},
   "source": [
    "### Encoding feature columns"
   ]
  },
  {
   "cell_type": "code",
   "execution_count": 456,
   "id": "a414df82-09ab-419e-9bb0-be79bcc87c2a",
   "metadata": {},
   "outputs": [
    {
     "name": "stdout",
     "output_type": "stream",
     "text": [
      "X shape before oneHot  (649, 30)\n",
      "new dim added:  (649, 5)\n",
      "X's shape after mjob5: (649, 34)\n",
      "new dim added:  (649, 5)\n",
      "X's shape after fjob5: (649, 38)\n",
      "new dim added:  (649, 4)\n",
      "X's shape after reason4: (649, 41)\n",
      "new guard cols added:  (649, 3)\n",
      "X's shape after guardian3: (649, 43)\n",
      "X's new shape: (649, 43)\n",
      "[0 0 18 1 0 0 4 4 1.0 0.0 0.0 0.0 0.0 0.0 0.0 0.0 0.0 1.0 1.0 0.0 0.0 0.0\n",
      " 0.0 1.0 0.0 2 2 0 1 0 0 0 1 1 0 0 4 3 4 1 1 3 4]\n"
     ]
    }
   ],
   "source": [
    "from sklearn.preprocessing import LabelEncoder, OneHotEncoder\n",
    "le = LabelEncoder()\n",
    "\n",
    "# encode the first column (school)\n",
    "X[:, 0] = le.fit_transform(X[:, 0])\n",
    "X[:, 1] = le.fit_transform(X[:, 1])   # gender\n",
    "\n",
    "# encode the 4th column. Rural or Urban\n",
    "X[:, 3] = le.fit_transform(X[:, 3])    # address type \n",
    "X[:, 4] = le.fit_transform(X[:, 4])    # family size\n",
    "X[:, 5] = le.fit_transform(X[:, 5])    # family cohabitation status\n",
    "\n",
    "print(\"X shape before oneHot \", X.shape)  # Todo: remove this\n",
    "\n",
    "# 9th column (mother's job) is nominal\n",
    "onehotencoder = OneHotEncoder(categories='auto', sparse_output=False)    # set to false to return ndarry instead of scipy.sparse._csr.csr_matrix\n",
    "col_9_encoded = onehotencoder.fit_transform(X[:, 8].reshape(-1, 1))\n",
    "print(\"new dim added: \", col_9_encoded.shape)\n",
    "X = np.concatenate((X[:,:8], col_9_encoded, X[:, 9:]), axis=1)  # add/concat the RHS array as a new column(s). Now we have 34cols\n",
    "# at this point, col9 at idx8 has extended to indexes 8,9,10,11,12 due to the new encoded indexes\n",
    "print(f\"X's shape after mjob5: {X.shape}\")\n",
    "\n",
    "# encoding father's job column. Originally col idx9, now idx13\n",
    "col_fjob_encoded = onehotencoder.fit_transform(X[:, 13].reshape(-1, 1))\n",
    "print(\"new dim added: \", col_fjob_encoded.shape)\n",
    "X = np.concatenate((X[:,:13], col_fjob_encoded, X[:, 14:]), axis=1)  # add/concat the RHS array as 5 new column(s)\n",
    "print(f\"X's shape after fjob5: {X.shape}\")\n",
    "\n",
    "# encoding the reason column\n",
    "col_reason_encoded = onehotencoder.fit_transform(X[:, 18].reshape(-1, 1))\n",
    "print(\"new dim added: \", col_reason_encoded.shape)\n",
    "X = np.concatenate((X[:,:18], col_reason_encoded, X[:, 19:]), axis=1)  # add/concat the RHS array as 4 new column(s)\n",
    "print(f\"X's shape after reason4: {X.shape}\")\n",
    "\n",
    "# encoding the guardian column\n",
    "col_guardian_encoded = onehotencoder.fit_transform(X[:, 22].reshape(-1, 1))\n",
    "print(\"new guard cols added: \", col_guardian_encoded.shape)\n",
    "X = np.concatenate((X[:,:22], col_guardian_encoded, X[:, 23:]), axis=1)  # add/concat the RHS array as 3 new column(s)\n",
    "print(f\"X's shape after guardian3: {X.shape}\")\n",
    "\n",
    "# encoding the remaining binary columns\n",
    "for col in range(28, 36):\n",
    "    X[:, col] = le.fit_transform(X[:, col]) \n",
    "\n",
    "print(f\"X's new shape: {X.shape}\")\n",
    "print(X[0])"
   ]
  },
  {
   "cell_type": "code",
   "execution_count": 457,
   "id": "aff2a83f-67eb-4ff3-b679-11f719b4e110",
   "metadata": {},
   "outputs": [
    {
     "name": "stdout",
     "output_type": "stream",
     "text": [
      "(649, 43)\n",
      "(649, 45)\n"
     ]
    }
   ],
   "source": [
    "# adding extra output columns to X\n",
    "G1,G2 = y_raw[:,0].reshape(-1,1), y_raw[:,1].reshape(-1,1)\n",
    "print(X.shape)\n",
    "X = np.concatenate((X, G1, G2), axis=1)\n",
    "print(X.shape)"
   ]
  },
  {
   "cell_type": "markdown",
   "id": "98cfcf74-0dac-4501-b58f-92cb932a6397",
   "metadata": {},
   "source": [
    "### converting y to 1D array\n"
   ]
  },
  {
   "cell_type": "code",
   "execution_count": 458,
   "id": "7d43728d-fa40-4e1a-ae75-2164b0b1a78d",
   "metadata": {},
   "outputs": [],
   "source": [
    "y = y_raw[:,2].ravel()"
   ]
  },
  {
   "cell_type": "markdown",
   "id": "d753b2dd-b3aa-4454-828b-71f434b5dba0",
   "metadata": {},
   "source": [
    "## Splitting the dataset into the Training and Test sets"
   ]
  },
  {
   "cell_type": "code",
   "execution_count": 459,
   "id": "a162b26f-d3bd-41d0-84ee-a97cf5c2e640",
   "metadata": {},
   "outputs": [],
   "source": [
    "from sklearn.model_selection import train_test_split\n",
    "X_train, X_test, y_train, y_test = train_test_split(X, y, test_size = 0.50, random_state = 0)"
   ]
  },
  {
   "cell_type": "markdown",
   "id": "06708176-aa91-41c0-89fc-4baf5064abf1",
   "metadata": {},
   "source": [
    "## Feature Scaling\n",
    "we scale the features so they're in the same range"
   ]
  },
  {
   "cell_type": "code",
   "execution_count": 460,
   "id": "f1fe266c-a7bf-4d25-a27b-360fd755ac5f",
   "metadata": {},
   "outputs": [],
   "source": [
    "from sklearn.preprocessing import StandardScaler\n",
    "sc = StandardScaler()\n",
    "X_train = sc.fit_transform(X_train)\n",
    "X_test = sc.transform(X_test)"
   ]
  },
  {
   "cell_type": "code",
   "execution_count": 461,
   "id": "20c0b344-1cd3-464b-a5b0-8ccd0b91409d",
   "metadata": {},
   "outputs": [
    {
     "name": "stdout",
     "output_type": "stream",
     "text": [
      "X and y shapes: (649, 45), (649,)\n"
     ]
    }
   ],
   "source": [
    "print(f\"X and y shapes: {X.shape}, {y.shape}\")"
   ]
  },
  {
   "cell_type": "markdown",
   "id": "ca78a801-ff00-4909-983c-feadb3e28767",
   "metadata": {},
   "source": [
    "## Training the SVM model on the Training set"
   ]
  },
  {
   "cell_type": "code",
   "execution_count": 462,
   "id": "3d548f18-1414-40b6-a79a-3fe5362004ad",
   "metadata": {},
   "outputs": [
    {
     "data": {
      "text/html": [
       "<style>#sk-container-id-28 {\n",
       "  /* Definition of color scheme common for light and dark mode */\n",
       "  --sklearn-color-text: black;\n",
       "  --sklearn-color-line: gray;\n",
       "  /* Definition of color scheme for unfitted estimators */\n",
       "  --sklearn-color-unfitted-level-0: #fff5e6;\n",
       "  --sklearn-color-unfitted-level-1: #f6e4d2;\n",
       "  --sklearn-color-unfitted-level-2: #ffe0b3;\n",
       "  --sklearn-color-unfitted-level-3: chocolate;\n",
       "  /* Definition of color scheme for fitted estimators */\n",
       "  --sklearn-color-fitted-level-0: #f0f8ff;\n",
       "  --sklearn-color-fitted-level-1: #d4ebff;\n",
       "  --sklearn-color-fitted-level-2: #b3dbfd;\n",
       "  --sklearn-color-fitted-level-3: cornflowerblue;\n",
       "\n",
       "  /* Specific color for light theme */\n",
       "  --sklearn-color-text-on-default-background: var(--sg-text-color, var(--theme-code-foreground, var(--jp-content-font-color1, black)));\n",
       "  --sklearn-color-background: var(--sg-background-color, var(--theme-background, var(--jp-layout-color0, white)));\n",
       "  --sklearn-color-border-box: var(--sg-text-color, var(--theme-code-foreground, var(--jp-content-font-color1, black)));\n",
       "  --sklearn-color-icon: #696969;\n",
       "\n",
       "  @media (prefers-color-scheme: dark) {\n",
       "    /* Redefinition of color scheme for dark theme */\n",
       "    --sklearn-color-text-on-default-background: var(--sg-text-color, var(--theme-code-foreground, var(--jp-content-font-color1, white)));\n",
       "    --sklearn-color-background: var(--sg-background-color, var(--theme-background, var(--jp-layout-color0, #111)));\n",
       "    --sklearn-color-border-box: var(--sg-text-color, var(--theme-code-foreground, var(--jp-content-font-color1, white)));\n",
       "    --sklearn-color-icon: #878787;\n",
       "  }\n",
       "}\n",
       "\n",
       "#sk-container-id-28 {\n",
       "  color: var(--sklearn-color-text);\n",
       "}\n",
       "\n",
       "#sk-container-id-28 pre {\n",
       "  padding: 0;\n",
       "}\n",
       "\n",
       "#sk-container-id-28 input.sk-hidden--visually {\n",
       "  border: 0;\n",
       "  clip: rect(1px 1px 1px 1px);\n",
       "  clip: rect(1px, 1px, 1px, 1px);\n",
       "  height: 1px;\n",
       "  margin: -1px;\n",
       "  overflow: hidden;\n",
       "  padding: 0;\n",
       "  position: absolute;\n",
       "  width: 1px;\n",
       "}\n",
       "\n",
       "#sk-container-id-28 div.sk-dashed-wrapped {\n",
       "  border: 1px dashed var(--sklearn-color-line);\n",
       "  margin: 0 0.4em 0.5em 0.4em;\n",
       "  box-sizing: border-box;\n",
       "  padding-bottom: 0.4em;\n",
       "  background-color: var(--sklearn-color-background);\n",
       "}\n",
       "\n",
       "#sk-container-id-28 div.sk-container {\n",
       "  /* jupyter's `normalize.less` sets `[hidden] { display: none; }`\n",
       "     but bootstrap.min.css set `[hidden] { display: none !important; }`\n",
       "     so we also need the `!important` here to be able to override the\n",
       "     default hidden behavior on the sphinx rendered scikit-learn.org.\n",
       "     See: https://github.com/scikit-learn/scikit-learn/issues/21755 */\n",
       "  display: inline-block !important;\n",
       "  position: relative;\n",
       "}\n",
       "\n",
       "#sk-container-id-28 div.sk-text-repr-fallback {\n",
       "  display: none;\n",
       "}\n",
       "\n",
       "div.sk-parallel-item,\n",
       "div.sk-serial,\n",
       "div.sk-item {\n",
       "  /* draw centered vertical line to link estimators */\n",
       "  background-image: linear-gradient(var(--sklearn-color-text-on-default-background), var(--sklearn-color-text-on-default-background));\n",
       "  background-size: 2px 100%;\n",
       "  background-repeat: no-repeat;\n",
       "  background-position: center center;\n",
       "}\n",
       "\n",
       "/* Parallel-specific style estimator block */\n",
       "\n",
       "#sk-container-id-28 div.sk-parallel-item::after {\n",
       "  content: \"\";\n",
       "  width: 100%;\n",
       "  border-bottom: 2px solid var(--sklearn-color-text-on-default-background);\n",
       "  flex-grow: 1;\n",
       "}\n",
       "\n",
       "#sk-container-id-28 div.sk-parallel {\n",
       "  display: flex;\n",
       "  align-items: stretch;\n",
       "  justify-content: center;\n",
       "  background-color: var(--sklearn-color-background);\n",
       "  position: relative;\n",
       "}\n",
       "\n",
       "#sk-container-id-28 div.sk-parallel-item {\n",
       "  display: flex;\n",
       "  flex-direction: column;\n",
       "}\n",
       "\n",
       "#sk-container-id-28 div.sk-parallel-item:first-child::after {\n",
       "  align-self: flex-end;\n",
       "  width: 50%;\n",
       "}\n",
       "\n",
       "#sk-container-id-28 div.sk-parallel-item:last-child::after {\n",
       "  align-self: flex-start;\n",
       "  width: 50%;\n",
       "}\n",
       "\n",
       "#sk-container-id-28 div.sk-parallel-item:only-child::after {\n",
       "  width: 0;\n",
       "}\n",
       "\n",
       "/* Serial-specific style estimator block */\n",
       "\n",
       "#sk-container-id-28 div.sk-serial {\n",
       "  display: flex;\n",
       "  flex-direction: column;\n",
       "  align-items: center;\n",
       "  background-color: var(--sklearn-color-background);\n",
       "  padding-right: 1em;\n",
       "  padding-left: 1em;\n",
       "}\n",
       "\n",
       "\n",
       "/* Toggleable style: style used for estimator/Pipeline/ColumnTransformer box that is\n",
       "clickable and can be expanded/collapsed.\n",
       "- Pipeline and ColumnTransformer use this feature and define the default style\n",
       "- Estimators will overwrite some part of the style using the `sk-estimator` class\n",
       "*/\n",
       "\n",
       "/* Pipeline and ColumnTransformer style (default) */\n",
       "\n",
       "#sk-container-id-28 div.sk-toggleable {\n",
       "  /* Default theme specific background. It is overwritten whether we have a\n",
       "  specific estimator or a Pipeline/ColumnTransformer */\n",
       "  background-color: var(--sklearn-color-background);\n",
       "}\n",
       "\n",
       "/* Toggleable label */\n",
       "#sk-container-id-28 label.sk-toggleable__label {\n",
       "  cursor: pointer;\n",
       "  display: block;\n",
       "  width: 100%;\n",
       "  margin-bottom: 0;\n",
       "  padding: 0.5em;\n",
       "  box-sizing: border-box;\n",
       "  text-align: center;\n",
       "}\n",
       "\n",
       "#sk-container-id-28 label.sk-toggleable__label-arrow:before {\n",
       "  /* Arrow on the left of the label */\n",
       "  content: \"▸\";\n",
       "  float: left;\n",
       "  margin-right: 0.25em;\n",
       "  color: var(--sklearn-color-icon);\n",
       "}\n",
       "\n",
       "#sk-container-id-28 label.sk-toggleable__label-arrow:hover:before {\n",
       "  color: var(--sklearn-color-text);\n",
       "}\n",
       "\n",
       "/* Toggleable content - dropdown */\n",
       "\n",
       "#sk-container-id-28 div.sk-toggleable__content {\n",
       "  max-height: 0;\n",
       "  max-width: 0;\n",
       "  overflow: hidden;\n",
       "  text-align: left;\n",
       "  /* unfitted */\n",
       "  background-color: var(--sklearn-color-unfitted-level-0);\n",
       "}\n",
       "\n",
       "#sk-container-id-28 div.sk-toggleable__content.fitted {\n",
       "  /* fitted */\n",
       "  background-color: var(--sklearn-color-fitted-level-0);\n",
       "}\n",
       "\n",
       "#sk-container-id-28 div.sk-toggleable__content pre {\n",
       "  margin: 0.2em;\n",
       "  border-radius: 0.25em;\n",
       "  color: var(--sklearn-color-text);\n",
       "  /* unfitted */\n",
       "  background-color: var(--sklearn-color-unfitted-level-0);\n",
       "}\n",
       "\n",
       "#sk-container-id-28 div.sk-toggleable__content.fitted pre {\n",
       "  /* unfitted */\n",
       "  background-color: var(--sklearn-color-fitted-level-0);\n",
       "}\n",
       "\n",
       "#sk-container-id-28 input.sk-toggleable__control:checked~div.sk-toggleable__content {\n",
       "  /* Expand drop-down */\n",
       "  max-height: 200px;\n",
       "  max-width: 100%;\n",
       "  overflow: auto;\n",
       "}\n",
       "\n",
       "#sk-container-id-28 input.sk-toggleable__control:checked~label.sk-toggleable__label-arrow:before {\n",
       "  content: \"▾\";\n",
       "}\n",
       "\n",
       "/* Pipeline/ColumnTransformer-specific style */\n",
       "\n",
       "#sk-container-id-28 div.sk-label input.sk-toggleable__control:checked~label.sk-toggleable__label {\n",
       "  color: var(--sklearn-color-text);\n",
       "  background-color: var(--sklearn-color-unfitted-level-2);\n",
       "}\n",
       "\n",
       "#sk-container-id-28 div.sk-label.fitted input.sk-toggleable__control:checked~label.sk-toggleable__label {\n",
       "  background-color: var(--sklearn-color-fitted-level-2);\n",
       "}\n",
       "\n",
       "/* Estimator-specific style */\n",
       "\n",
       "/* Colorize estimator box */\n",
       "#sk-container-id-28 div.sk-estimator input.sk-toggleable__control:checked~label.sk-toggleable__label {\n",
       "  /* unfitted */\n",
       "  background-color: var(--sklearn-color-unfitted-level-2);\n",
       "}\n",
       "\n",
       "#sk-container-id-28 div.sk-estimator.fitted input.sk-toggleable__control:checked~label.sk-toggleable__label {\n",
       "  /* fitted */\n",
       "  background-color: var(--sklearn-color-fitted-level-2);\n",
       "}\n",
       "\n",
       "#sk-container-id-28 div.sk-label label.sk-toggleable__label,\n",
       "#sk-container-id-28 div.sk-label label {\n",
       "  /* The background is the default theme color */\n",
       "  color: var(--sklearn-color-text-on-default-background);\n",
       "}\n",
       "\n",
       "/* On hover, darken the color of the background */\n",
       "#sk-container-id-28 div.sk-label:hover label.sk-toggleable__label {\n",
       "  color: var(--sklearn-color-text);\n",
       "  background-color: var(--sklearn-color-unfitted-level-2);\n",
       "}\n",
       "\n",
       "/* Label box, darken color on hover, fitted */\n",
       "#sk-container-id-28 div.sk-label.fitted:hover label.sk-toggleable__label.fitted {\n",
       "  color: var(--sklearn-color-text);\n",
       "  background-color: var(--sklearn-color-fitted-level-2);\n",
       "}\n",
       "\n",
       "/* Estimator label */\n",
       "\n",
       "#sk-container-id-28 div.sk-label label {\n",
       "  font-family: monospace;\n",
       "  font-weight: bold;\n",
       "  display: inline-block;\n",
       "  line-height: 1.2em;\n",
       "}\n",
       "\n",
       "#sk-container-id-28 div.sk-label-container {\n",
       "  text-align: center;\n",
       "}\n",
       "\n",
       "/* Estimator-specific */\n",
       "#sk-container-id-28 div.sk-estimator {\n",
       "  font-family: monospace;\n",
       "  border: 1px dotted var(--sklearn-color-border-box);\n",
       "  border-radius: 0.25em;\n",
       "  box-sizing: border-box;\n",
       "  margin-bottom: 0.5em;\n",
       "  /* unfitted */\n",
       "  background-color: var(--sklearn-color-unfitted-level-0);\n",
       "}\n",
       "\n",
       "#sk-container-id-28 div.sk-estimator.fitted {\n",
       "  /* fitted */\n",
       "  background-color: var(--sklearn-color-fitted-level-0);\n",
       "}\n",
       "\n",
       "/* on hover */\n",
       "#sk-container-id-28 div.sk-estimator:hover {\n",
       "  /* unfitted */\n",
       "  background-color: var(--sklearn-color-unfitted-level-2);\n",
       "}\n",
       "\n",
       "#sk-container-id-28 div.sk-estimator.fitted:hover {\n",
       "  /* fitted */\n",
       "  background-color: var(--sklearn-color-fitted-level-2);\n",
       "}\n",
       "\n",
       "/* Specification for estimator info (e.g. \"i\" and \"?\") */\n",
       "\n",
       "/* Common style for \"i\" and \"?\" */\n",
       "\n",
       ".sk-estimator-doc-link,\n",
       "a:link.sk-estimator-doc-link,\n",
       "a:visited.sk-estimator-doc-link {\n",
       "  float: right;\n",
       "  font-size: smaller;\n",
       "  line-height: 1em;\n",
       "  font-family: monospace;\n",
       "  background-color: var(--sklearn-color-background);\n",
       "  border-radius: 1em;\n",
       "  height: 1em;\n",
       "  width: 1em;\n",
       "  text-decoration: none !important;\n",
       "  margin-left: 1ex;\n",
       "  /* unfitted */\n",
       "  border: var(--sklearn-color-unfitted-level-1) 1pt solid;\n",
       "  color: var(--sklearn-color-unfitted-level-1);\n",
       "}\n",
       "\n",
       ".sk-estimator-doc-link.fitted,\n",
       "a:link.sk-estimator-doc-link.fitted,\n",
       "a:visited.sk-estimator-doc-link.fitted {\n",
       "  /* fitted */\n",
       "  border: var(--sklearn-color-fitted-level-1) 1pt solid;\n",
       "  color: var(--sklearn-color-fitted-level-1);\n",
       "}\n",
       "\n",
       "/* On hover */\n",
       "div.sk-estimator:hover .sk-estimator-doc-link:hover,\n",
       ".sk-estimator-doc-link:hover,\n",
       "div.sk-label-container:hover .sk-estimator-doc-link:hover,\n",
       ".sk-estimator-doc-link:hover {\n",
       "  /* unfitted */\n",
       "  background-color: var(--sklearn-color-unfitted-level-3);\n",
       "  color: var(--sklearn-color-background);\n",
       "  text-decoration: none;\n",
       "}\n",
       "\n",
       "div.sk-estimator.fitted:hover .sk-estimator-doc-link.fitted:hover,\n",
       ".sk-estimator-doc-link.fitted:hover,\n",
       "div.sk-label-container:hover .sk-estimator-doc-link.fitted:hover,\n",
       ".sk-estimator-doc-link.fitted:hover {\n",
       "  /* fitted */\n",
       "  background-color: var(--sklearn-color-fitted-level-3);\n",
       "  color: var(--sklearn-color-background);\n",
       "  text-decoration: none;\n",
       "}\n",
       "\n",
       "/* Span, style for the box shown on hovering the info icon */\n",
       ".sk-estimator-doc-link span {\n",
       "  display: none;\n",
       "  z-index: 9999;\n",
       "  position: relative;\n",
       "  font-weight: normal;\n",
       "  right: .2ex;\n",
       "  padding: .5ex;\n",
       "  margin: .5ex;\n",
       "  width: min-content;\n",
       "  min-width: 20ex;\n",
       "  max-width: 50ex;\n",
       "  color: var(--sklearn-color-text);\n",
       "  box-shadow: 2pt 2pt 4pt #999;\n",
       "  /* unfitted */\n",
       "  background: var(--sklearn-color-unfitted-level-0);\n",
       "  border: .5pt solid var(--sklearn-color-unfitted-level-3);\n",
       "}\n",
       "\n",
       ".sk-estimator-doc-link.fitted span {\n",
       "  /* fitted */\n",
       "  background: var(--sklearn-color-fitted-level-0);\n",
       "  border: var(--sklearn-color-fitted-level-3);\n",
       "}\n",
       "\n",
       ".sk-estimator-doc-link:hover span {\n",
       "  display: block;\n",
       "}\n",
       "\n",
       "/* \"?\"-specific style due to the `<a>` HTML tag */\n",
       "\n",
       "#sk-container-id-28 a.estimator_doc_link {\n",
       "  float: right;\n",
       "  font-size: 1rem;\n",
       "  line-height: 1em;\n",
       "  font-family: monospace;\n",
       "  background-color: var(--sklearn-color-background);\n",
       "  border-radius: 1rem;\n",
       "  height: 1rem;\n",
       "  width: 1rem;\n",
       "  text-decoration: none;\n",
       "  /* unfitted */\n",
       "  color: var(--sklearn-color-unfitted-level-1);\n",
       "  border: var(--sklearn-color-unfitted-level-1) 1pt solid;\n",
       "}\n",
       "\n",
       "#sk-container-id-28 a.estimator_doc_link.fitted {\n",
       "  /* fitted */\n",
       "  border: var(--sklearn-color-fitted-level-1) 1pt solid;\n",
       "  color: var(--sklearn-color-fitted-level-1);\n",
       "}\n",
       "\n",
       "/* On hover */\n",
       "#sk-container-id-28 a.estimator_doc_link:hover {\n",
       "  /* unfitted */\n",
       "  background-color: var(--sklearn-color-unfitted-level-3);\n",
       "  color: var(--sklearn-color-background);\n",
       "  text-decoration: none;\n",
       "}\n",
       "\n",
       "#sk-container-id-28 a.estimator_doc_link.fitted:hover {\n",
       "  /* fitted */\n",
       "  background-color: var(--sklearn-color-fitted-level-3);\n",
       "}\n",
       "</style><div id=\"sk-container-id-28\" class=\"sk-top-container\"><div class=\"sk-text-repr-fallback\"><pre>SVC(kernel=&#x27;linear&#x27;, random_state=0)</pre><b>In a Jupyter environment, please rerun this cell to show the HTML representation or trust the notebook. <br />On GitHub, the HTML representation is unable to render, please try loading this page with nbviewer.org.</b></div><div class=\"sk-container\" hidden><div class=\"sk-item\"><div class=\"sk-estimator fitted sk-toggleable\"><input class=\"sk-toggleable__control sk-hidden--visually\" id=\"sk-estimator-id-28\" type=\"checkbox\" checked><label for=\"sk-estimator-id-28\" class=\"sk-toggleable__label fitted sk-toggleable__label-arrow fitted\">&nbsp;&nbsp;SVC<a class=\"sk-estimator-doc-link fitted\" rel=\"noreferrer\" target=\"_blank\" href=\"https://scikit-learn.org/1.5/modules/generated/sklearn.svm.SVC.html\">?<span>Documentation for SVC</span></a><span class=\"sk-estimator-doc-link fitted\">i<span>Fitted</span></span></label><div class=\"sk-toggleable__content fitted\"><pre>SVC(kernel=&#x27;linear&#x27;, random_state=0)</pre></div> </div></div></div></div>"
      ],
      "text/plain": [
       "SVC(kernel='linear', random_state=0)"
      ]
     },
     "execution_count": 462,
     "metadata": {},
     "output_type": "execute_result"
    }
   ],
   "source": [
    "from sklearn.svm import SVC\n",
    "classifier = SVC(kernel=\"linear\", degree=3, random_state=0)\n",
    "classifier.fit(X_train, y_train)"
   ]
  },
  {
   "cell_type": "markdown",
   "id": "0c598001-a3b5-4c0a-b1f3-ddecdfb08872",
   "metadata": {},
   "source": [
    "## Insample Prediction: on training data"
   ]
  },
  {
   "cell_type": "code",
   "execution_count": 463,
   "id": "7b1b59dd-7700-4ec7-b449-dccc7e3f904d",
   "metadata": {},
   "outputs": [],
   "source": [
    "y_pred_ins = classifier.predict(X_train)\n",
    "#print(np.concatenate((y_pred_ins.reshape(len(y_pred_ins),1), y_train.reshape(len(y_train),1)),1))"
   ]
  },
  {
   "cell_type": "markdown",
   "id": "b7c67598-7ad3-4e7a-a4b3-abcefc444f7e",
   "metadata": {},
   "source": [
    "### Let's see the confusion matrix and accuracy score"
   ]
  },
  {
   "cell_type": "code",
   "execution_count": 464,
   "id": "98fe0eb5-fe23-47f9-afb8-8e0e8147c590",
   "metadata": {},
   "outputs": [
    {
     "data": {
      "text/plain": [
       "0.9444444444444444"
      ]
     },
     "execution_count": 464,
     "metadata": {},
     "output_type": "execute_result"
    }
   ],
   "source": [
    "from sklearn.metrics import confusion_matrix, accuracy_score\n",
    "cm = confusion_matrix(y_train, y_pred_ins)\n",
    "#print(cm)\n",
    "accuracy_score(y_train, y_pred_ins)"
   ]
  },
  {
   "cell_type": "markdown",
   "id": "61af9f24-926b-434d-9e48-2709fb566f79",
   "metadata": {},
   "source": [
    "## Outsample Prediction: on test data and confusion matrix"
   ]
  },
  {
   "cell_type": "code",
   "execution_count": 465,
   "id": "623b3702-fe7d-4d97-8745-5f2d56028b04",
   "metadata": {},
   "outputs": [],
   "source": [
    "y_pred_out = classifier.predict(X_test)"
   ]
  },
  {
   "cell_type": "code",
   "execution_count": 466,
   "id": "2c63a759-9977-4fad-a0f8-a39d53e6c60a",
   "metadata": {},
   "outputs": [
    {
     "data": {
      "text/plain": [
       "0.30153846153846153"
      ]
     },
     "execution_count": 466,
     "metadata": {},
     "output_type": "execute_result"
    }
   ],
   "source": [
    "cm = confusion_matrix(y_test, y_pred_out)\n",
    "#print(cm)\n",
    "accuracy_score(y_test, y_pred_out)"
   ]
  },
  {
   "cell_type": "code",
   "execution_count": 467,
   "id": "e4658998-3692-4f14-badc-2a64d1b82722",
   "metadata": {},
   "outputs": [
    {
     "name": "stdout",
     "output_type": "stream",
     "text": [
      "(325,) (325,)\n"
     ]
    },
    {
     "data": {
      "text/plain": [
       "array([ 8, 14, 17, 10, 11, 13, 13, 17, 11, 11, 10, 11, 13, 10, 17, 13, 13,\n",
       "       14, 11, 11, 12, 10, 17, 16, 12,  0, 13, 12, 13, 12, 16, 17, 12, 15,\n",
       "       11,  8, 14, 12, 11, 12, 17, 18, 11, 15, 13, 11, 13, 11, 12, 11,  8,\n",
       "       15, 11, 11,  8, 11, 12, 11, 15, 13, 12,  8, 12,  9, 13, 13, 12, 13,\n",
       "       12,  8,  9, 11, 15, 11, 16, 14, 13, 14, 12, 13, 13, 11,  9, 13, 16,\n",
       "       12, 11, 15, 12, 12, 16, 15, 17, 13, 10,  9, 14, 11, 13, 13, 12, 10,\n",
       "        8, 12,  8,  8, 16,  9,  9, 16, 11, 13, 13, 13, 10, 10, 15, 17, 10,\n",
       "       11, 10, 11, 10, 10, 12, 15, 16, 18, 10, 16, 13, 10, 15, 14, 13,  7,\n",
       "        9, 10, 14, 10, 15, 11,  9, 12, 14, 11,  9, 11, 17, 15, 16, 13, 14,\n",
       "        9, 11, 14, 16,  8, 11, 18, 13, 16, 12, 12, 12, 10, 13,  8,  9, 11,\n",
       "        9, 13, 15, 17, 16,  6, 11, 14,  7,  9, 15, 17, 10,  8,  9,  0, 12,\n",
       "       10, 12, 11,  8, 18,  9, 11, 10, 10, 11, 11, 11, 11], dtype=int64)"
      ]
     },
     "execution_count": 467,
     "metadata": {},
     "output_type": "execute_result"
    }
   ],
   "source": [
    "print(y_test.shape, y_pred_out.shape)\n",
    "y_pred_out[:200]\n",
    "# #print(set(y))\n",
    "# from sklearn.model_selection import learning_curve,StratifiedKFold\n",
    "# # Initialize StratifiedKFold\n",
    "# skf = StratifiedKFold(n_splits=5)\n",
    "\n",
    "# for train_index, test_index in skf.split(X, y):\n",
    "#     print(\"Train:\", np.bincount(y[train_index]))\n",
    "#     print(\"Test:\", np.bincount(y[test_index]))"
   ]
  },
  {
   "cell_type": "code",
   "execution_count": 468,
   "id": "8b57d0e3-7607-40e6-b5a8-c1996ecd028e",
   "metadata": {},
   "outputs": [],
   "source": [
    "# from sklearn.model_selection import learning_curve\n",
    "# #from sklearn.neighbors import KNeighborsClassifier\n",
    "\n",
    "# #knn_classifier = KNeighborsClassifier(n_neighbors = 4, metric = 'minkowski', p = 2)\n",
    "# train_sizes, train_scores, test_scores = learning_curve(classifier, X, y, cv=5, scoring='accuracy', n_jobs=-1, train_sizes=np.linspace(0.1, 1.0, 10))\n",
    "\n",
    "# train_scores_mean = np.mean(train_scores, axis=1)\n",
    "# test_scores_mean = np.mean(test_scores, axis=1)\n",
    "\n",
    "# plt.plot(train_sizes, train_scores_mean, label='Training score')\n",
    "# plt.plot(train_sizes, test_scores_mean, label='Cross-validation score')\n",
    "# plt.xlabel('Training examples')\n",
    "# plt.ylabel('Score')\n",
    "# plt.legend(loc='best')\n",
    "# plt.title('Learning Curve')\n",
    "# plt.show()"
   ]
  },
  {
   "cell_type": "markdown",
   "id": "755fdcc6-f580-4737-86b4-51dbf24a2429",
   "metadata": {},
   "source": [
    "# Plotting The Learning Curve"
   ]
  },
  {
   "cell_type": "code",
   "execution_count": 469,
   "id": "5f6e314c-28c4-4202-aa5f-9a8a2dfef427",
   "metadata": {},
   "outputs": [
    {
     "name": "stderr",
     "output_type": "stream",
     "text": [
      "C:\\Python311\\Lib\\site-packages\\sklearn\\model_selection\\_split.py:776: UserWarning: The least populated class in y has only 1 members, which is less than n_splits=5.\n",
      "  warnings.warn(\n"
     ]
    },
    {
     "data": {
      "image/png": "[encoded data removed]",
      "text/plain": [
       "<Figure size 640x480 with 1 Axes>"
      ]
     },
     "metadata": {},
     "output_type": "display_data"
    }
   ],
   "source": [
    "from sklearn.model_selection import learning_curve,StratifiedKFold\n",
    "# Initialize StratifiedKFold\n",
    "skf = StratifiedKFold(n_splits=5)\n",
    "\n",
    "train_sizes, train_scores, test_scores = learning_curve(classifier, X, y, cv=skf, scoring='accuracy', n_jobs=-1, train_sizes=np.linspace(0.1, 1.0, 10), random_state=10, shuffle=True)\n",
    "\n",
    "train_scores_mean = np.mean(train_scores, axis=1)\n",
    "test_scores_mean = np.mean(test_scores, axis=1)\n",
    "\n",
    "plt.plot(train_sizes, train_scores_mean, label='Training score')\n",
    "plt.plot(train_sizes, test_scores_mean, label='Cross-validation score')\n",
    "plt.xlabel('Training examples')\n",
    "plt.ylabel('Score')\n",
    "plt.legend(loc='best')\n",
    "plt.title('Learning Curve')\n",
    "plt.show()"
   ]
  },
  {
   "cell_type": "code",
   "execution_count": 470,
   "id": "365c92e2-59b5-4141-bc1e-9e0d4077d9cf",
   "metadata": {},
   "outputs": [],
   "source": [
    "# print(train_sizes)\n",
    "# print(train_scores)\n",
    "# print(\"Test scores \\n\", test_scores)\n"
   ]
  },
  {
   "cell_type": "markdown",
   "id": "92aa5dad-9d08-4e50-ac81-feecad20f9a1",
   "metadata": {},
   "source": [
    "## Experimenting with different values of k"
   ]
  },
  {
   "cell_type": "code",
   "execution_count": 471,
   "id": "312fe74d-ac41-41f1-81d1-7be54063dc2a",
   "metadata": {},
   "outputs": [],
   "source": [
    "# k_vals = [i for i in range(1,40)]\n",
    "# train_accuracies = []\n",
    "# test_accuracies = []\n",
    "# for k in k_vals:\n",
    "#     classifier = KNeighborsClassifier(n_neighbors = k, metric = 'minkowski', p = 2)\n",
    "#     classifier.fit(X_train, y_train)\n",
    "\n",
    "#     y_pred_test = classifier.predict(X_test)\n",
    "#     y_pred_train = classifier.predict(X_train)\n",
    "    \n",
    "#     train_accuracies.append(accuracy_score(y_train, y_pred_train))\n",
    "#     test_accuracies.append(accuracy_score(y_test, y_pred_test))\n",
    "\n",
    "\n",
    "# # now let's plot it - Accuracy vs k\n",
    "# plt.figure(figsize=(10, 6))\n",
    "# plt.plot(k_vals, train_accuracies, label='In-Sample Accuracy (Training Set)', marker='o', color='b')\n",
    "# plt.plot(k_vals, test_accuracies, label='Out-of-Sample Accuracy (Test Set)', marker='o', color='r')\n",
    "# plt.title('KNN Accuracy for Different Values of k')\n",
    "# plt.xlabel('Number of Neighbors (k)')\n",
    "# plt.ylabel('Accuracy')\n",
    "# plt.xticks(k_vals)\n",
    "# plt.legend()\n",
    "# plt.grid(True)\n",
    "# plt.show()"
   ]
  },
  {
   "cell_type": "code",
   "execution_count": 472,
   "id": "e2fd76b7-01da-411e-a8d4-11932b4b8f7c",
   "metadata": {},
   "outputs": [
    {
     "name": "stdout",
     "output_type": "stream",
     "text": [
      "[]\n",
      "[]\n"
     ]
    }
   ],
   "source": [
    "print(train_accuracies)\n",
    "print(test_accuracies)"
   ]
  },
  {
   "cell_type": "code",
   "execution_count": null,
   "id": "7519fbad-3f9b-4faa-93fd-b622c57497ce",
   "metadata": {},
   "outputs": [],
   "source": []
  }
 ],
 "metadata": {
  "kernelspec": {
   "display_name": "Python 3 (ipykernel)",
   "language": "python",
   "name": "python3"
  },
  "language_info": {
   "codemirror_mode": {
    "name": "ipython",
    "version": 3
   },
   "file_extension": ".py",
   "mimetype": "text/x-python",
   "name": "python",
   "nbconvert_exporter": "python",
   "pygments_lexer": "ipython3",
   "version": "3.11.0"
  }
 },
 "nbformat": 4,
 "nbformat_minor": 5
}
